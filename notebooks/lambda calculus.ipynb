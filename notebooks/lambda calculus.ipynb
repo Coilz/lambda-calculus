{
 "cells": [
  {
   "cell_type": "markdown",
   "metadata": {
    "slideshow": {
     "slide_type": "slide"
    }
   },
   "source": [
    "# <center>Lambda Calculus</center>"
   ]
  },
  {
   "cell_type": "markdown",
   "metadata": {
    "slideshow": {
     "slide_type": "slide"
    }
   },
   "source": [
    "# $$\\operatorname{f}(x)=x+1$$\n",
    "## <center>named form</center>"
   ]
  },
  {
   "cell_type": "markdown",
   "metadata": {
    "slideshow": {
     "slide_type": "slide"
    }
   },
   "source": [
    "# $$x \\mapsto x+1$$\n",
    "## <center>anonymous form</center>"
   ]
  },
  {
   "cell_type": "markdown",
   "metadata": {
    "slideshow": {
     "slide_type": "slide"
    }
   },
   "source": [
    "# $$\\lambda x.x+1$$\n",
    "## <center>lambda calculus form</center>"
   ]
  },
  {
   "cell_type": "markdown",
   "metadata": {
    "slideshow": {
     "slide_type": "slide"
    }
   },
   "source": [
    "# <center>Lambda calculus is Turing complete</center>\n",
    "```\n",
    "In non-formal language: the terms \"Turing complete\" or \"Turing equivalent\" are used to mean that any real-world general-purpose computer or computer language can approximately simulate the computational aspects of any other real-world general-purpose computer or computer language.\n",
    "```\n",
    "### _<center>Lamda calculus is a universal model of computation that can be used to simulate any Turing machine.</center>_\n",
    "#### _<center>The lambda calculus influenced the design of the LISP programming language and functional programming languages in general.</center>_"
   ]
  },
  {
   "cell_type": "markdown",
   "metadata": {
    "slideshow": {
     "slide_type": "slide"
    }
   },
   "source": [
    "<img style=\"float: left;\" src=\"para/Screenshot%202019-04-04%2019.31.40.png\">\n",
    "<img style=\"float: left;\" src=\"para/Screenshot%202019-04-04%2019.25.16.png\">\n",
    "<img style=\"float: left;\" src=\"para/Screenshot%202019-04-04%2019.25.38.png\">"
   ]
  },
  {
   "cell_type": "markdown",
   "metadata": {
    "slideshow": {
     "slide_type": "slide"
    }
   },
   "source": [
    "# $$(x_{1},x_{2},\\ldots ,x_{n})\\mapsto \\dots$$\n",
    "## <center>n-ary function</center>"
   ]
  },
  {
   "cell_type": "markdown",
   "metadata": {
    "slideshow": {
     "slide_type": "slide"
    }
   },
   "source": [
    "# $$x\\mapsto \\operatorname{expression}$$\n",
    "## <center>unary form</center>\n",
    "# $$x_{1}\\mapsto (x_{2}\\mapsto \\dots (x_{n}\\mapsto \\operatorname{expression})) \\dots)$$"
   ]
  },
  {
   "cell_type": "markdown",
   "metadata": {
    "slideshow": {
     "slide_type": "slide"
    }
   },
   "source": [
    "### $$(x,y)\\mapsto x^{2}+y^{2}$$\n",
    "#### <center>anonymous binary</center>\n",
    "\n",
    "### $$x\\mapsto (y\\mapsto x^{2}+y^{2})$$\n",
    "#### <center>anonymous unary</center>\n",
    "\n",
    "### $$\\lambda x.\\lambda y.x^{2}+y^{2} \\equiv \\lambda xy.x^{2}+y^{2}$$\n",
    "#### <center>lambda notation</center>"
   ]
  },
  {
   "cell_type": "markdown",
   "metadata": {
    "slideshow": {
     "slide_type": "slide"
    }
   },
   "source": [
    "### $$((x,y)\\mapsto x^{2}+y^{2})(5,2)=5^{2}+2^{2}=29$$\n",
    "#### <center>at once</center>\n",
    "\n",
    "### $$(x\\mapsto (y\\mapsto x^{2}+y^{2}))(5)(2)=(y\\mapsto 5^{2}+y^{2})(2)=5^{2}+2^{2}=29$$\n",
    "### $$(\\lambda x. \\lambda y.x^{2}+y^{2})(5)(2)=(\\lambda y.5^{2}+y^{2})(2)=5^{2}+2^{2}=29$$\n",
    "#### <center>currying</center>\n",
    "### $$(\\lambda x. \\lambda y.x^{2}+y^{2})(5)=\\lambda y.5^{2}+y^{2}$$"
   ]
  },
  {
   "cell_type": "markdown",
   "metadata": {
    "slideshow": {
     "slide_type": "slide"
    }
   },
   "source": [
    "# $$\\operatorname{I} = \\lambda x.x$$\n",
    "## <center>Identity</center>"
   ]
  },
  {
   "cell_type": "code",
   "execution_count": null,
   "metadata": {
    "slideshow": {
     "slide_type": "-"
    }
   },
   "outputs": [],
   "source": [
    "# Identity\n",
    "I = lambda x: x"
   ]
  },
  {
   "cell_type": "code",
   "execution_count": null,
   "metadata": {
    "slideshow": {
     "slide_type": "fragment"
    }
   },
   "outputs": [],
   "source": [
    "I('value')"
   ]
  },
  {
   "cell_type": "markdown",
   "metadata": {
    "slideshow": {
     "slide_type": "slide"
    }
   },
   "source": [
    "# $$\\operatorname{M} = \\lambda f.f\\ f$$\n",
    "## <center>Mockingbird</center>"
   ]
  },
  {
   "cell_type": "code",
   "execution_count": null,
   "metadata": {
    "slideshow": {
     "slide_type": "-"
    }
   },
   "outputs": [],
   "source": [
    "# Mockingbird\n",
    "M = lambda f: f(f)"
   ]
  },
  {
   "cell_type": "markdown",
   "metadata": {
    "slideshow": {
     "slide_type": "subslide"
    }
   },
   "source": [
    "### $$\\operatorname{M}\\ \\operatorname{I}=\\operatorname{I}\\ \\operatorname{I}=\\operatorname{I}$$"
   ]
  },
  {
   "cell_type": "code",
   "execution_count": null,
   "metadata": {
    "slideshow": {
     "slide_type": "fragment"
    }
   },
   "outputs": [],
   "source": [
    "# M I = I I = I\n",
    "M(I)(2)"
   ]
  },
  {
   "cell_type": "markdown",
   "metadata": {
    "slideshow": {
     "slide_type": "fragment"
    }
   },
   "source": [
    "### $$\\operatorname{M}\\ \\operatorname{M}=(\\lambda f.f\\ f)(\\lambda f.f\\ f)=\\dots$$"
   ]
  },
  {
   "cell_type": "code",
   "execution_count": null,
   "metadata": {
    "slideshow": {
     "slide_type": "fragment"
    }
   },
   "outputs": [],
   "source": [
    "# M(M)"
   ]
  },
  {
   "cell_type": "markdown",
   "metadata": {
    "slideshow": {
     "slide_type": "slide"
    }
   },
   "source": [
    "# $$\\operatorname{K} = \\lambda a.\\lambda b. a = \\lambda ab.a$$\n",
    "## <center>Kestrel</center>"
   ]
  },
  {
   "cell_type": "code",
   "execution_count": null,
   "metadata": {},
   "outputs": [],
   "source": [
    "# Kestrel\n",
    "K = lambda a: lambda b: a"
   ]
  },
  {
   "cell_type": "code",
   "execution_count": null,
   "metadata": {
    "slideshow": {
     "slide_type": "fragment"
    }
   },
   "outputs": [],
   "source": [
    "K('left evaluated')('right evaluated')"
   ]
  },
  {
   "cell_type": "markdown",
   "metadata": {
    "slideshow": {
     "slide_type": "slide"
    }
   },
   "source": [
    "# $$\\operatorname{KI}=\\lambda a.\\lambda b. b = \\lambda ab.b$$\n",
    "## <center>Kite</center>"
   ]
  },
  {
   "cell_type": "code",
   "execution_count": null,
   "metadata": {},
   "outputs": [],
   "source": [
    "# Kite\n",
    "KI = lambda a: lambda b: b"
   ]
  },
  {
   "cell_type": "markdown",
   "metadata": {
    "slideshow": {
     "slide_type": "fragment"
    }
   },
   "source": [
    "### $$\\operatorname{K}\\ \\operatorname{I}\\ x = \\operatorname{I}$$"
   ]
  },
  {
   "cell_type": "markdown",
   "metadata": {
    "slideshow": {
     "slide_type": "fragment"
    }
   },
   "source": [
    "### $$\\operatorname{K}\\ \\operatorname{I}\\ x\\ y=\\operatorname{I}\\ y=y$$"
   ]
  },
  {
   "cell_type": "markdown",
   "metadata": {
    "slideshow": {
     "slide_type": "slide"
    }
   },
   "source": [
    "## $$\\operatorname{KI} \\equiv \\operatorname{K}\\ \\operatorname{I}$$\n",
    "_<center>Equivalence</center>_"
   ]
  },
  {
   "cell_type": "code",
   "execution_count": null,
   "metadata": {
    "slideshow": {
     "slide_type": "fragment"
    }
   },
   "outputs": [],
   "source": [
    "# Kite\n",
    "KI = K(I)"
   ]
  },
  {
   "cell_type": "code",
   "execution_count": null,
   "metadata": {
    "slideshow": {
     "slide_type": "fragment"
    }
   },
   "outputs": [],
   "source": [
    "KI('left evaluated')('right evaluated')"
   ]
  },
  {
   "cell_type": "markdown",
   "metadata": {
    "slideshow": {
     "slide_type": "slide"
    }
   },
   "source": [
    "# $$\\lambda fab.f\\ b\\ a$$\n",
    "## <center>Cardinal</center>"
   ]
  },
  {
   "cell_type": "code",
   "execution_count": null,
   "metadata": {},
   "outputs": [],
   "source": [
    "# Cardinal\n",
    "C = lambda f: lambda a: lambda b: f(b)(a)"
   ]
  },
  {
   "cell_type": "markdown",
   "metadata": {
    "slideshow": {
     "slide_type": "fragment"
    }
   },
   "source": [
    "### $$\\operatorname{C}\\ \\operatorname{K}\\ \\operatorname{I}\\ \\operatorname{M} \\equiv \\operatorname{M}$$"
   ]
  },
  {
   "cell_type": "code",
   "execution_count": null,
   "metadata": {
    "slideshow": {
     "slide_type": "fragment"
    }
   },
   "outputs": [],
   "source": [
    "C(K)('left evaluated')('right evaluated')"
   ]
  },
  {
   "cell_type": "markdown",
   "metadata": {
    "slideshow": {
     "slide_type": "fragment"
    }
   },
   "source": [
    "$$\\operatorname{C}\\ \\operatorname{K} \\equiv \\operatorname{K}\\ \\operatorname{I}$$"
   ]
  },
  {
   "cell_type": "markdown",
   "metadata": {
    "slideshow": {
     "slide_type": "slide"
    }
   },
   "source": [
    "# $$\\lambda abc.a\\ c(b\\ c)$$\n",
    "## <center>Starling</center>"
   ]
  },
  {
   "cell_type": "markdown",
   "metadata": {},
   "source": [
    "$$\\operatorname{S}\\ \\operatorname{K}\\ \\operatorname{K} \\equiv \\operatorname{I}$$\n",
    "$$\\operatorname{S}\\ \\operatorname{K}\\ \\operatorname{S} \\equiv \\operatorname{I}$$"
   ]
  },
  {
   "cell_type": "code",
   "execution_count": null,
   "metadata": {},
   "outputs": [],
   "source": [
    "S = lambda a: lambda b: lambda c: a(c)(b(c))"
   ]
  },
  {
   "cell_type": "code",
   "execution_count": null,
   "metadata": {
    "slideshow": {
     "slide_type": "fragment"
    }
   },
   "outputs": [],
   "source": [
    "S(K)(K)('value')"
   ]
  },
  {
   "cell_type": "code",
   "execution_count": null,
   "metadata": {
    "slideshow": {
     "slide_type": "fragment"
    }
   },
   "outputs": [],
   "source": [
    "S(K)(S)('value')"
   ]
  },
  {
   "cell_type": "markdown",
   "metadata": {
    "slideshow": {
     "slide_type": "slide"
    }
   },
   "source": [
    "# $$\\operatorname{K} \\equiv \\operatorname{true}$$\n",
    "# $$\\operatorname{KI} \\equiv \\operatorname{false}$$\n",
    "## <center>Boolean logic</center>\n",
    "_<center>By convention, the above two definitions (known as Church booleans) are used for the boolean values TRUE and FALSE</center>_"
   ]
  },
  {
   "cell_type": "code",
   "execution_count": null,
   "metadata": {
    "slideshow": {
     "slide_type": "-"
    }
   },
   "outputs": [],
   "source": [
    "# Booleans\n",
    "troo = K\n",
    "falz = KI"
   ]
  },
  {
   "cell_type": "code",
   "execution_count": null,
   "metadata": {
    "slideshow": {
     "slide_type": "fragment"
    }
   },
   "outputs": [],
   "source": [
    "# cheating for convenience\n",
    "print_bool = lambda p: print(p(\"It's true!\")(\"It's false!\"))"
   ]
  },
  {
   "cell_type": "code",
   "execution_count": null,
   "metadata": {
    "slideshow": {
     "slide_type": "fragment"
    }
   },
   "outputs": [],
   "source": [
    "print_bool(K)\n",
    "print_bool(C(troo))"
   ]
  },
  {
   "cell_type": "markdown",
   "metadata": {
    "slideshow": {
     "slide_type": "slide"
    }
   },
   "source": [
    "# $$\\operatorname{not}=\\lambda p.p\\ F\\ T$$"
   ]
  },
  {
   "cell_type": "code",
   "execution_count": null,
   "metadata": {
    "slideshow": {
     "slide_type": "-"
    }
   },
   "outputs": [],
   "source": [
    "# not\n",
    "opposite = lambda p: p(falz)(troo)"
   ]
  },
  {
   "cell_type": "code",
   "execution_count": null,
   "metadata": {
    "slideshow": {
     "slide_type": "fragment"
    }
   },
   "outputs": [],
   "source": [
    "print_bool(opposite(falz))"
   ]
  },
  {
   "cell_type": "markdown",
   "metadata": {
    "slideshow": {
     "slide_type": "fragment"
    }
   },
   "source": [
    "# $$\\operatorname{C} \\equiv \\operatorname{not}$$"
   ]
  },
  {
   "cell_type": "code",
   "execution_count": null,
   "metadata": {},
   "outputs": [],
   "source": [
    "print_bool(C(troo))"
   ]
  },
  {
   "cell_type": "markdown",
   "metadata": {
    "slideshow": {
     "slide_type": "slide"
    }
   },
   "source": [
    "# $$\\operatorname{and}=\\lambda pq.p\\ q\\ p$$"
   ]
  },
  {
   "cell_type": "code",
   "execution_count": null,
   "metadata": {},
   "outputs": [],
   "source": [
    "# and\n",
    "both = lambda p: lambda q: p(q)(p)"
   ]
  },
  {
   "cell_type": "code",
   "execution_count": null,
   "metadata": {
    "slideshow": {
     "slide_type": "fragment"
    }
   },
   "outputs": [],
   "source": [
    "print_bool(both(troo)(troo))\n",
    "print_bool(both(troo)(falz))\n",
    "print_bool(both(falz)(troo))\n",
    "print_bool(both(falz)(falz))"
   ]
  },
  {
   "cell_type": "markdown",
   "metadata": {
    "slideshow": {
     "slide_type": "slide"
    }
   },
   "source": [
    "# $$\\operatorname{or}=\\lambda pq.p\\ p\\ q$$"
   ]
  },
  {
   "cell_type": "code",
   "execution_count": null,
   "metadata": {},
   "outputs": [],
   "source": [
    "# or\n",
    "either = lambda p: lambda q: p(p)(q)"
   ]
  },
  {
   "cell_type": "code",
   "execution_count": null,
   "metadata": {
    "slideshow": {
     "slide_type": "fragment"
    }
   },
   "outputs": [],
   "source": [
    "print_bool(either(falz)(falz))\n",
    "print_bool(either(falz)(troo))"
   ]
  },
  {
   "cell_type": "markdown",
   "metadata": {
    "slideshow": {
     "slide_type": "fragment"
    }
   },
   "source": [
    "# $$\\operatorname{M} \\equiv \\operatorname{or}$$\n",
    "_<center>Remember:&nbsp; $\\operatorname{M}=\\lambda f.ff$</center>_"
   ]
  },
  {
   "cell_type": "code",
   "execution_count": null,
   "metadata": {
    "slideshow": {
     "slide_type": "fragment"
    }
   },
   "outputs": [],
   "source": [
    "M(falz)\n",
    "print_bool(M(falz)(troo))\n",
    "print_bool(M(falz)(falz))"
   ]
  },
  {
   "cell_type": "markdown",
   "metadata": {
    "slideshow": {
     "slide_type": "slide"
    }
   },
   "source": [
    "# $$\\lambda pq.p(q\\ \\operatorname{T}\\ \\operatorname{F})(q\\ \\operatorname{F}\\ \\operatorname{T})$$\n",
    "## <center>equals / XOR</center>\n",
    "\n",
    "# $$\\lambda pq.p\\ q\\ (\\operatorname{not}\\ q)$$"
   ]
  },
  {
   "cell_type": "code",
   "execution_count": null,
   "metadata": {},
   "outputs": [],
   "source": [
    "equals = lambda p: lambda q: p(q)(opposite(q))"
   ]
  },
  {
   "cell_type": "code",
   "execution_count": null,
   "metadata": {
    "slideshow": {
     "slide_type": "fragment"
    }
   },
   "outputs": [],
   "source": [
    "print_bool(equals(falz)(troo))"
   ]
  },
  {
   "cell_type": "markdown",
   "metadata": {
    "slideshow": {
     "slide_type": "slide"
    }
   },
   "source": [
    "# $$\\lambda abf.f\\ a\\ b$$\n",
    "## <center>Church pairs</center>\n",
    "_<center>Data structure</center>_"
   ]
  },
  {
   "cell_type": "code",
   "execution_count": null,
   "metadata": {},
   "outputs": [],
   "source": [
    "pair = lambda a: lambda b: lambda f: f(a)(b)\n",
    "\n",
    "left = lambda x: x(troo)\n",
    "right = lambda x: x(falz)"
   ]
  },
  {
   "cell_type": "markdown",
   "metadata": {
    "slideshow": {
     "slide_type": "subslide"
    }
   },
   "source": [
    "### <center>Define a structure for NAW</center>\n",
    "_<center>Note that everything is immutable!</center>_"
   ]
  },
  {
   "cell_type": "code",
   "execution_count": null,
   "metadata": {},
   "outputs": [],
   "source": [
    "person = pair\n",
    "address = pair\n",
    "naw = pair"
   ]
  },
  {
   "cell_type": "code",
   "execution_count": null,
   "metadata": {
    "slideshow": {
     "slide_type": "fragment"
    }
   },
   "outputs": [],
   "source": [
    "concat = lambda c: lambda a: lambda b: '{0}{1}{2}'.format(a, c, b)"
   ]
  },
  {
   "cell_type": "code",
   "execution_count": null,
   "metadata": {
    "slideshow": {
     "slide_type": "fragment"
    }
   },
   "outputs": [],
   "source": [
    "fullName = concat(' ')\n",
    "fullStreet = concat(' ')\n",
    "fullCity = concat(', ')\n",
    "\n",
    "fullAddress = lambda a: lambda b: concat('\\n')(a(fullStreet))(b(fullCity))\n",
    "fullNaw = lambda a: lambda b: concat('\\n')(a(fullName))(b(fullAddress))"
   ]
  },
  {
   "cell_type": "code",
   "execution_count": null,
   "metadata": {
    "slideshow": {
     "slide_type": "subslide"
    }
   },
   "outputs": [],
   "source": [
    "a_person = person('Erwin')('Konink')\n",
    "a_address = address(pair('Anijsstraat')(74))(pair('7322 PS')('Apeldoorn'))\n",
    "a_naw = naw(a_person)(a_address)"
   ]
  },
  {
   "cell_type": "code",
   "execution_count": null,
   "metadata": {},
   "outputs": [],
   "source": [
    "print(a_person(fullName))"
   ]
  },
  {
   "cell_type": "code",
   "execution_count": null,
   "metadata": {
    "slideshow": {
     "slide_type": "fragment"
    }
   },
   "outputs": [],
   "source": [
    "print(a_address(fullAddress))"
   ]
  },
  {
   "cell_type": "code",
   "execution_count": null,
   "metadata": {
    "slideshow": {
     "slide_type": "fragment"
    }
   },
   "outputs": [],
   "source": [
    "print(a_naw(fullNaw))"
   ]
  },
  {
   "cell_type": "markdown",
   "metadata": {
    "slideshow": {
     "slide_type": "slide"
    }
   },
   "source": [
    "## <center>Two pairs as a list node</center>\n",
    "_<center>To allow for empty lists</center>_"
   ]
  },
  {
   "cell_type": "markdown",
   "metadata": {
    "slideshow": {
     "slide_type": "slide"
    }
   },
   "source": [
    "### $$\\operatorname{nil}=\\operatorname{pair}\\ \\operatorname{true}\\ \\operatorname{true}$$\n",
    "_<center>The first element of the pair is true meaning the list is null.</center>_"
   ]
  },
  {
   "cell_type": "code",
   "execution_count": null,
   "metadata": {},
   "outputs": [],
   "source": [
    "nil = pair(troo)(troo)"
   ]
  },
  {
   "cell_type": "markdown",
   "metadata": {
    "slideshow": {
     "slide_type": "fragment"
    }
   },
   "source": [
    "### $$\\operatorname{isnil}=\\operatorname{left}$$\n",
    "_<center>Retrieve the null (or empty list) indicator.</center>_"
   ]
  },
  {
   "cell_type": "code",
   "execution_count": null,
   "metadata": {},
   "outputs": [],
   "source": [
    "isnil = left"
   ]
  },
  {
   "cell_type": "code",
   "execution_count": null,
   "metadata": {
    "slideshow": {
     "slide_type": "fragment"
    }
   },
   "outputs": [],
   "source": [
    "print_bool(isnil(nil))"
   ]
  },
  {
   "cell_type": "markdown",
   "metadata": {
    "slideshow": {
     "slide_type": "slide"
    }
   },
   "source": [
    "### $$\\operatorname{cons}=\\lambda h.\\lambda t.\\operatorname{pair}\\ \\operatorname{false}\\ (\\operatorname{pair}\\ h\\ t)$$\n",
    "_<center>Create a list node, which is not null, and give it a head h and a tail t.</center>_"
   ]
  },
  {
   "cell_type": "code",
   "execution_count": null,
   "metadata": {},
   "outputs": [],
   "source": [
    "cons = lambda h: lambda t: pair(falz)(pair(h)(t))"
   ]
  },
  {
   "cell_type": "code",
   "execution_count": null,
   "metadata": {
    "slideshow": {
     "slide_type": "fragment"
    }
   },
   "outputs": [],
   "source": [
    "my_list = cons('the first element')(nil)\n",
    "print_bool(isnil(my_list))"
   ]
  },
  {
   "cell_type": "markdown",
   "metadata": {
    "slideshow": {
     "slide_type": "slide"
    }
   },
   "source": [
    "### $$\\operatorname{head}=\\lambda z.\\operatorname{left}\\ (\\operatorname{right}\\ z)$$\n",
    "_<center>right.left is the head.</center>_"
   ]
  },
  {
   "cell_type": "code",
   "execution_count": null,
   "metadata": {},
   "outputs": [],
   "source": [
    "head = lambda z: left(right(z))"
   ]
  },
  {
   "cell_type": "code",
   "execution_count": null,
   "metadata": {
    "slideshow": {
     "slide_type": "fragment"
    }
   },
   "outputs": [],
   "source": [
    "head(my_list)"
   ]
  },
  {
   "cell_type": "markdown",
   "metadata": {
    "slideshow": {
     "slide_type": "slide"
    }
   },
   "source": [
    "### $$\\operatorname{tail}=\\lambda z.\\operatorname{right}\\ (\\operatorname{right}\\ z)$$\n",
    "_<center>right.right is the tail.</center>_"
   ]
  },
  {
   "cell_type": "code",
   "execution_count": null,
   "metadata": {},
   "outputs": [],
   "source": [
    "tail = lambda z: right(right(z))"
   ]
  },
  {
   "cell_type": "code",
   "execution_count": null,
   "metadata": {
    "slideshow": {
     "slide_type": "fragment"
    }
   },
   "outputs": [],
   "source": [
    "print_bool(isnil(tail(my_list)))"
   ]
  },
  {
   "cell_type": "markdown",
   "metadata": {
    "slideshow": {
     "slide_type": "slide"
    }
   },
   "source": [
    "## <center>One pair as a list node</center>"
   ]
  },
  {
   "cell_type": "markdown",
   "metadata": {
    "slideshow": {
     "slide_type": "slide"
    }
   },
   "source": [
    "### $$\\operatorname{nil_1}=\\operatorname{false}$$"
   ]
  },
  {
   "cell_type": "code",
   "execution_count": null,
   "metadata": {
    "slideshow": {
     "slide_type": "-"
    }
   },
   "outputs": [],
   "source": [
    "nil_1 = falz"
   ]
  },
  {
   "cell_type": "markdown",
   "metadata": {
    "slideshow": {
     "slide_type": "fragment"
    }
   },
   "source": [
    "### $$\\operatorname{isnil_1}=\\lambda l.l(\\lambda h.\\lambda t.\\lambda d.\\operatorname{false})\\operatorname{true}$$"
   ]
  },
  {
   "cell_type": "code",
   "execution_count": null,
   "metadata": {
    "slideshow": {
     "slide_type": "-"
    }
   },
   "outputs": [],
   "source": [
    "isnil_1 = lambda l: l(lambda h: lambda t: lambda d: falz)(troo)"
   ]
  },
  {
   "cell_type": "code",
   "execution_count": null,
   "metadata": {
    "slideshow": {
     "slide_type": "fragment"
    }
   },
   "outputs": [],
   "source": [
    "print_bool(isnil_1(nil_1))"
   ]
  },
  {
   "cell_type": "markdown",
   "metadata": {
    "slideshow": {
     "slide_type": "slide"
    }
   },
   "source": [
    "### $$\\operatorname{cons_1}=\\operatorname{pair}$$"
   ]
  },
  {
   "cell_type": "code",
   "execution_count": null,
   "metadata": {
    "slideshow": {
     "slide_type": "-"
    }
   },
   "outputs": [],
   "source": [
    "cons_1 = pair"
   ]
  },
  {
   "cell_type": "code",
   "execution_count": null,
   "metadata": {
    "slideshow": {
     "slide_type": "fragment"
    }
   },
   "outputs": [],
   "source": [
    "my_list_1 = cons_1('the first element')(nil_1)\n",
    "print_bool(isnil_1(my_list_1))"
   ]
  },
  {
   "cell_type": "markdown",
   "metadata": {
    "slideshow": {
     "slide_type": "slide"
    }
   },
   "source": [
    "### $$\\operatorname{head_1}=\\operatorname{left}$$"
   ]
  },
  {
   "cell_type": "code",
   "execution_count": null,
   "metadata": {
    "slideshow": {
     "slide_type": "-"
    }
   },
   "outputs": [],
   "source": [
    "head_1 = left"
   ]
  },
  {
   "cell_type": "code",
   "execution_count": null,
   "metadata": {
    "slideshow": {
     "slide_type": "fragment"
    }
   },
   "outputs": [],
   "source": [
    "head_1(my_list_1)"
   ]
  },
  {
   "cell_type": "markdown",
   "metadata": {
    "slideshow": {
     "slide_type": "fragment"
    }
   },
   "source": [
    "### $$\\operatorname{tail_1}=\\operatorname{right}$$"
   ]
  },
  {
   "cell_type": "code",
   "execution_count": null,
   "metadata": {
    "slideshow": {
     "slide_type": "-"
    }
   },
   "outputs": [],
   "source": [
    "tail_1 = right"
   ]
  },
  {
   "cell_type": "code",
   "execution_count": null,
   "metadata": {
    "slideshow": {
     "slide_type": "fragment"
    }
   },
   "outputs": [],
   "source": [
    "print_bool(isnil_1(tail_1(my_list_1)))"
   ]
  },
  {
   "cell_type": "markdown",
   "metadata": {
    "slideshow": {
     "slide_type": "slide"
    }
   },
   "source": [
    "# $$(\\lambda x.x\\ x)(\\lambda x.x\\ x)$$\n",
    "## <center>Loop</center>\n",
    "### $$\\operatorname{Loop}=\\operatorname{M}\\ \\operatorname{M}$$"
   ]
  },
  {
   "cell_type": "markdown",
   "metadata": {
    "slideshow": {
     "slide_type": "slide"
    }
   },
   "source": [
    "# $$\\lambda f.(\\lambda x.f(x\\ x))(\\lambda x.f(x\\ x))$$\n",
    "## <center>Y-combinator</center>\n",
    "### _<center>Recurrence</center>_"
   ]
  },
  {
   "cell_type": "code",
   "execution_count": null,
   "metadata": {},
   "outputs": [],
   "source": [
    "Y = lambda f: (lambda x: f(x(x)))(lambda x: f(x(x)))"
   ]
  },
  {
   "cell_type": "markdown",
   "metadata": {
    "slideshow": {
     "slide_type": "slide"
    }
   },
   "source": [
    "## $$\\operatorname{Y}(\\lambda x.x)=(\\lambda x.x\\ x)(\\lambda x.x\\ x)$$\n",
    "### $$\\operatorname{Y}\\ \\operatorname{I} \\equiv \\operatorname{M}\\ \\operatorname{M}$$"
   ]
  },
  {
   "cell_type": "code",
   "execution_count": null,
   "metadata": {
    "slideshow": {
     "slide_type": "-"
    }
   },
   "outputs": [],
   "source": [
    "# Y(I)"
   ]
  },
  {
   "cell_type": "markdown",
   "metadata": {
    "slideshow": {
     "slide_type": "notes"
    }
   },
   "source": [
    "# $$! = \\lambda k. k\\;F\\;(\\lambda g.g\\,1\\,1)\\;(\\lambda ab.b)$$\n",
    "## $$F(a,b) = (a+1, a\\times b)$$\n",
    "## $$F = \\lambda p.p (\\lambda a b g. g \\; (\\lambda f x.f(afx))\\; (\\lambda f.a(bf)))$$\n",
    "## $$! = \\lambda k. k\n",
    " \\; \\Bigl(\\lambda p.p\\bigl(\\lambda abg.g\\;\\bigl(\\lambda fx.f(afx)\\bigr)\\;\\bigl(\\lambda f.a(bf)\\bigr)\\bigr)\\Bigr)\n",
    " \\; \\bigl(\\lambda g.g\\, (\\lambda h.h)\\, (\\lambda h.h)\\bigr)\n",
    " \\; \\bigl(\\lambda ab.b\\bigr)$$\n",
    "## <center>Factorial</center>"
   ]
  }
 ],
 "metadata": {
  "celltoolbar": "Slideshow",
  "kernelspec": {
   "display_name": "Python 3",
   "language": "python",
   "name": "python3"
  },
  "language_info": {
   "codemirror_mode": {
    "name": "ipython",
    "version": 3
   },
   "file_extension": ".py",
   "mimetype": "text/x-python",
   "name": "python",
   "nbconvert_exporter": "python",
   "pygments_lexer": "ipython3",
   "version": "3.7.3"
  }
 },
 "nbformat": 4,
 "nbformat_minor": 2
}
